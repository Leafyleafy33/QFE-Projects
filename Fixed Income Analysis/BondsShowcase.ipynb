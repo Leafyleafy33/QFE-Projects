{
 "cells": [
  {
   "cell_type": "code",
   "execution_count": 1,
   "metadata": {},
   "outputs": [],
   "source": [
    "import numpy as np\n",
    "import numpy_financial as npf\n",
    "import pandas as pd\n",
    "import sympy as sp\n",
    "import pandas_datareader as pdr\n",
    "import seaborn as sns\n",
    "import matplotlib.pyplot as plt\n",
    "from matplotlib.colors import LinearSegmentedColormap\n",
    "from matplotlib.colors import ListedColormap\n",
    "from matplotlib.collections import LineCollection\n",
    "from IPython.display import display, Markdown\n",
    "from scipy.optimize import minimize, root_scalar\n",
    "from concurrent.futures import ThreadPoolExecutor\n",
    "from scipy.stats import norm\n",
    "import BondPricing as bp\n",
    "import AdvancedAnalytics as aa\n",
    "import yfinance as yf\n",
    "from datetime import datetime, timedelta\n",
    "\n",
    "# Customize Seaborn style\n",
    "sns.set_style(\"darkgrid\", {\n",
    "    \"axes.facecolor\": \"#2c2c2c\",\n",
    "    \"grid.color\": \"#4d4d4d\",\n",
    "    \"grid.linestyle\": \"--\",\n",
    "    \"axes.labelcolor\": \"#fc8d62\",\n",
    "    \"axes.edgecolor\": \"#66c2a5\",\n",
    "    \"xtick.color\": \"#66c2a5\",\n",
    "    \"ytick.color\": \"#66c2a5\",\n",
    "    \"axes.titlecolor\": \"#f4c542\",\n",
    "    \"text.color\": \"#66c2a5\"\n",
    "})\n",
    "sns.set_palette(\"deep\")"
   ]
  },
  {
   "cell_type": "markdown",
   "metadata": {},
   "source": [
    "# Section 1: Bond Analysis\n",
    "\n",
    "##### Simple Example of a Bond with descriptive statistics and parameters."
   ]
  },
  {
   "cell_type": "code",
   "execution_count": 2,
   "metadata": {},
   "outputs": [
    {
     "name": "stdout",
     "output_type": "stream",
     "text": [
      "                                Bond Details\n",
      "--------------------------------------------------------------------------------------------\n",
      "\n",
      "Name: Intel Bond 1              Coupon Rate: 4.950%             Period: 180 days                \n",
      "Face Value: $100.00             Yield Rate: 5.962300%           Days since coupon: 21           \n",
      "Maturity: 2060-03-25            Current Yield: 5.8032%          N: 73                           \n",
      "Settled : 2023-10-16            Coupon Frequency: 2             PMT: $2.4750                    \n",
      "Prev Pmt: 2023-09-25            Mac Duration: 15.688811         Convexity: 399.9654             \n",
      "Next Pmt: 2024-03-25            Mod Duration: 15.234644         DV01 Per MM: $1299.477368       \n",
      "\n",
      "                                DirtyPrice: $85.2975237\n",
      "                                AccruedInt: $0.2887500\n",
      "                                CleanPrice: $85.0087737\n",
      "--------------------------------------------------------------------------------------------\n",
      "As we can see, \n",
      "dirty price = $85.30 and \n",
      "clean price = $85.01 \n",
      "\n",
      "This makes sense, and helps illustrate the mechanical aspect \n",
      "that accrued interest is playing in the price of a bond. \n",
      "\n",
      "Accrued interest is $0.29, so \n",
      "$85.30 - $0.29 = $85.01\n"
     ]
    }
   ],
   "source": [
    "Intel_Bond = bp.Bond(maturity=\"2060-03-25\", cr=0.0495, ytm=0.059623, name=\"Intel Bond 1\", freq=2, current_date=\"2023-10-12\", face_value=100)\n",
    "Intel_Bond.display_parameters()\n",
    "\n",
    "print(f'As we can see, \\ndirty price = ${Intel_Bond.dirty_price():,.2f} and \\nclean price = ${Intel_Bond.clean_price():,.2f} \\n\\nThis makes sense, and helps illustrate the mechanical aspect \\nthat accrued interest is playing in the price of a bond. \\n\\nAccrued interest is ${Intel_Bond.accrued_interest():,.2f}, so \\n${Intel_Bond.dirty_price():,.2f} - ${Intel_Bond.accrued_interest():,.2f} = ${Intel_Bond.clean_price():,.2f}')"
   ]
  },
  {
   "cell_type": "markdown",
   "metadata": {},
   "source": [
    "##### Example of a Bond Portfolio, can be extended to include more bonds."
   ]
  },
  {
   "cell_type": "code",
   "execution_count": 3,
   "metadata": {},
   "outputs": [
    {
     "name": "stdout",
     "output_type": "stream",
     "text": [
      "                                Bond Portfolio Details                               \n",
      "-------------------------------------------------------------------------------------\n",
      "  Name   | Coupon Rate  |   Yield    |     D*     |    DV01    |   Weight   | \n",
      "-------------------------------------------------------------------------------------\n",
      "Bond A   | 2.30%        | 2.1500%    | 1.7639     | 177.6045   | 33.33%     | \n",
      "Bond B   | 3.15%        | 4.8500%    | 11.2315    | 937.7400   | 16.67%     | \n",
      "Bond C   | 4.05%        | 5.5000%    | 11.6716    | 989.0051   | 50.00%     | \n",
      "=====================================================================================\n",
      "                                  Portfolio Metrics                                  \n",
      "                           \tMarket Value: \t$26.9536 Million                          \n",
      "                                Portfolio D*: \t8.2957                                \n",
      "                              Portfolio DV01: \t$709.9940                             \n",
      "=====================================================================================\n"
     ]
    }
   ],
   "source": [
    "bond_A = bp.Bond(maturity=\"2025-07-15\", cr=0.023, ytm=0.0215, name=\"Bond A\", settle=\"2023-09-21\", face_value=100)\n",
    "bond_B = bp.Bond(maturity=\"2038-10-01\", cr=0.0315, ytm=0.0485, name=\"Bond B\", settle=\"2023-09-21\", face_value=100)\n",
    "bond_C = bp.Bond(maturity=\"2041-01-10\", cr=0.0405, ytm=0.0550, name=\"Bond C\", settle=\"2023-09-21\", face_value=100)\n",
    "\n",
    "portfolio_new = bp.BondPortfolio()\n",
    "portfolio_new.add_bond(bond_A, 10e6)  # $10 MM par value of Bond A\n",
    "portfolio_new.add_bond(bond_B, 5e6)   # $5 MM par value of Bond B\n",
    "portfolio_new.add_bond(bond_C, 15e6)  # $15 MM par value of Bond C\n",
    "\n",
    "portfolio_new.display_parameters()"
   ]
  },
  {
   "cell_type": "markdown",
   "metadata": {},
   "source": [
    "## Section 2: Interest Rate Analysis"
   ]
  },
  {
   "cell_type": "markdown",
   "metadata": {},
   "source": [
    "##### Nelson Siegel Svensson Model for the Zero Rate Curve"
   ]
  },
  {
   "cell_type": "code",
   "execution_count": 10,
   "metadata": {},
   "outputs": [
    {
     "name": "stdout",
     "output_type": "stream",
     "text": [
      "\n",
      "(a) Nelson-Siegel Calibration\n",
      "--------------------------------------------------------------------------------\n"
     ]
    },
    {
     "data": {
      "text/html": [
       "<div>\n",
       "<style scoped>\n",
       "    .dataframe tbody tr th:only-of-type {\n",
       "        vertical-align: middle;\n",
       "    }\n",
       "\n",
       "    .dataframe tbody tr th {\n",
       "        vertical-align: top;\n",
       "    }\n",
       "\n",
       "    .dataframe thead th {\n",
       "        text-align: right;\n",
       "    }\n",
       "</style>\n",
       "<table border=\"1\" class=\"dataframe\">\n",
       "  <thead>\n",
       "    <tr style=\"text-align: right;\">\n",
       "      <th></th>\n",
       "      <th>DATE</th>\n",
       "      <th>Bond</th>\n",
       "      <th>Yield</th>\n",
       "      <th>Maturity</th>\n",
       "    </tr>\n",
       "  </thead>\n",
       "  <tbody>\n",
       "    <tr>\n",
       "      <th>0</th>\n",
       "      <td>2024-01-10</td>\n",
       "      <td>DGS3MO</td>\n",
       "      <td>5.46</td>\n",
       "      <td>0.25</td>\n",
       "    </tr>\n",
       "    <tr>\n",
       "      <th>1</th>\n",
       "      <td>2024-01-10</td>\n",
       "      <td>DGS6MO</td>\n",
       "      <td>5.23</td>\n",
       "      <td>0.50</td>\n",
       "    </tr>\n",
       "    <tr>\n",
       "      <th>2</th>\n",
       "      <td>2024-01-10</td>\n",
       "      <td>DGS1</td>\n",
       "      <td>4.82</td>\n",
       "      <td>1.00</td>\n",
       "    </tr>\n",
       "    <tr>\n",
       "      <th>3</th>\n",
       "      <td>2024-01-10</td>\n",
       "      <td>DGS2</td>\n",
       "      <td>4.37</td>\n",
       "      <td>2.00</td>\n",
       "    </tr>\n",
       "    <tr>\n",
       "      <th>4</th>\n",
       "      <td>2024-01-10</td>\n",
       "      <td>DGS3</td>\n",
       "      <td>4.10</td>\n",
       "      <td>3.00</td>\n",
       "    </tr>\n",
       "    <tr>\n",
       "      <th>5</th>\n",
       "      <td>2024-01-10</td>\n",
       "      <td>DGS5</td>\n",
       "      <td>3.99</td>\n",
       "      <td>5.00</td>\n",
       "    </tr>\n",
       "    <tr>\n",
       "      <th>6</th>\n",
       "      <td>2024-01-10</td>\n",
       "      <td>DGS7</td>\n",
       "      <td>4.01</td>\n",
       "      <td>7.00</td>\n",
       "    </tr>\n",
       "    <tr>\n",
       "      <th>7</th>\n",
       "      <td>2024-01-10</td>\n",
       "      <td>DGS10</td>\n",
       "      <td>4.04</td>\n",
       "      <td>10.00</td>\n",
       "    </tr>\n",
       "    <tr>\n",
       "      <th>8</th>\n",
       "      <td>2024-01-10</td>\n",
       "      <td>DGS20</td>\n",
       "      <td>4.35</td>\n",
       "      <td>20.00</td>\n",
       "    </tr>\n",
       "    <tr>\n",
       "      <th>9</th>\n",
       "      <td>2024-01-10</td>\n",
       "      <td>DGS30</td>\n",
       "      <td>4.20</td>\n",
       "      <td>30.00</td>\n",
       "    </tr>\n",
       "  </tbody>\n",
       "</table>\n",
       "</div>"
      ],
      "text/plain": [
       "        DATE    Bond  Yield  Maturity\n",
       "0 2024-01-10  DGS3MO   5.46      0.25\n",
       "1 2024-01-10  DGS6MO   5.23      0.50\n",
       "2 2024-01-10    DGS1   4.82      1.00\n",
       "3 2024-01-10    DGS2   4.37      2.00\n",
       "4 2024-01-10    DGS3   4.10      3.00\n",
       "5 2024-01-10    DGS5   3.99      5.00\n",
       "6 2024-01-10    DGS7   4.01      7.00\n",
       "7 2024-01-10   DGS10   4.04     10.00\n",
       "8 2024-01-10   DGS20   4.35     20.00\n",
       "9 2024-01-10   DGS30   4.20     30.00"
      ]
     },
     "metadata": {},
     "output_type": "display_data"
    },
    {
     "name": "stdout",
     "output_type": "stream",
     "text": [
      "\n",
      "Nelson-Siegel Curve Parameters:\n",
      "------------------------------\n",
      "β₀ (Long-term rate): 4.40%\n",
      "β₁ (Yield curve slope): 1.36%\n",
      "β₂ (Yield curve curvature): -3.16%\n",
      "λ: 0.55\n",
      "------------------------------\n",
      "\n",
      "(b) Interpretation of β₀\n",
      "--------------------------------------------------------------------------------\n",
      "\n",
      "Parameter Interpretations:\n",
      "β₀: Expected long-term interest rate\n",
      "β₁: Slope indicates curve's steepness. Positive value: upward-sloping. Negative value: downward-sloping.\n",
      "β₂: Curvature indicates the hump's position. Positive: hump at short-medium maturities. Negative: hump at longer maturities.\n",
      "λ: Decay factor\n",
      "------------------------------\n",
      "\n",
      "(c) Zero Rates\n",
      "--------------------------------------------------------------------------------\n"
     ]
    },
    {
     "data": {
      "text/html": [
       "<style type=\"text/css\">\n",
       "</style>\n",
       "<table id=\"T_4fc02\">\n",
       "  <caption>Nelson Curve Zero Rates \n",
       "(displaying specific mats)</caption>\n",
       "  <thead>\n",
       "    <tr>\n",
       "      <th id=\"T_4fc02_level0_col0\" class=\"col_heading level0 col0\" >Maturity</th>\n",
       "      <th id=\"T_4fc02_level0_col1\" class=\"col_heading level0 col1\" >Zero Rate (%)</th>\n",
       "    </tr>\n",
       "  </thead>\n",
       "  <tbody>\n",
       "    <tr>\n",
       "      <td id=\"T_4fc02_row0_col0\" class=\"data row0 col0\" >0.25</td>\n",
       "      <td id=\"T_4fc02_row0_col1\" class=\"data row0 col1\" >5.47</td>\n",
       "    </tr>\n",
       "    <tr>\n",
       "      <td id=\"T_4fc02_row1_col0\" class=\"data row1 col0\" >1.00</td>\n",
       "      <td id=\"T_4fc02_row1_col1\" class=\"data row1 col1\" >4.83</td>\n",
       "    </tr>\n",
       "    <tr>\n",
       "      <td id=\"T_4fc02_row2_col0\" class=\"data row2 col0\" >2.00</td>\n",
       "      <td id=\"T_4fc02_row2_col1\" class=\"data row2 col1\" >4.35</td>\n",
       "    </tr>\n",
       "    <tr>\n",
       "      <td id=\"T_4fc02_row3_col0\" class=\"data row3 col0\" >3.00</td>\n",
       "      <td id=\"T_4fc02_row3_col1\" class=\"data row3 col1\" >4.12</td>\n",
       "    </tr>\n",
       "    <tr>\n",
       "      <td id=\"T_4fc02_row4_col0\" class=\"data row4 col0\" >4.00</td>\n",
       "      <td id=\"T_4fc02_row4_col1\" class=\"data row4 col1\" >4.02</td>\n",
       "    </tr>\n",
       "    <tr>\n",
       "      <td id=\"T_4fc02_row5_col0\" class=\"data row5 col0\" >5.00</td>\n",
       "      <td id=\"T_4fc02_row5_col1\" class=\"data row5 col1\" >3.98</td>\n",
       "    </tr>\n",
       "    <tr>\n",
       "      <td id=\"T_4fc02_row6_col0\" class=\"data row6 col0\" >10.00</td>\n",
       "      <td id=\"T_4fc02_row6_col1\" class=\"data row6 col1\" >4.08</td>\n",
       "    </tr>\n",
       "    <tr>\n",
       "      <td id=\"T_4fc02_row7_col0\" class=\"data row7 col0\" >15.00</td>\n",
       "      <td id=\"T_4fc02_row7_col1\" class=\"data row7 col1\" >4.18</td>\n",
       "    </tr>\n",
       "    <tr>\n",
       "      <td id=\"T_4fc02_row8_col0\" class=\"data row8 col0\" >20.00</td>\n",
       "      <td id=\"T_4fc02_row8_col1\" class=\"data row8 col1\" >4.23</td>\n",
       "    </tr>\n",
       "    <tr>\n",
       "      <td id=\"T_4fc02_row9_col0\" class=\"data row9 col0\" >25.00</td>\n",
       "      <td id=\"T_4fc02_row9_col1\" class=\"data row9 col1\" >4.26</td>\n",
       "    </tr>\n",
       "    <tr>\n",
       "      <td id=\"T_4fc02_row10_col0\" class=\"data row10 col0\" >30.00</td>\n",
       "      <td id=\"T_4fc02_row10_col1\" class=\"data row10 col1\" >4.29</td>\n",
       "    </tr>\n",
       "  </tbody>\n",
       "</table>\n"
      ],
      "text/plain": [
       "<pandas.io.formats.style.Styler at 0x1362fa3f390>"
      ]
     },
     "metadata": {},
     "output_type": "display_data"
    },
    {
     "data": {
      "image/png": "[encoded data removed]",
      "text/plain": [
       "<Figure size 850x618 with 1 Axes>"
      ]
     },
     "metadata": {},
     "output_type": "display_data"
    },
    {
     "name": "stdout",
     "output_type": "stream",
     "text": [
      "\n",
      "(d) Curve Slope Check\n",
      "--------------------------------------------------------------------------------\n",
      "\n",
      "The zero curve slopes upward at some points.\n",
      "It is inverted around 5.25 and starts increasing at maturity 5.5\n"
     ]
    }
   ],
   "source": [
    "# ----------------------------- (a) Nelson-Siegel Calibration -----------------------------\n",
    "print(\"\\n(a) Nelson-Siegel Calibration\")\n",
    "print(\"-\" * 80)\n",
    "\n",
    "maturity_dict = {'DGS3MO': 0.25, 'DGS6MO': 0.50, 'DGS1': 1, 'DGS2': 2, 'DGS3': 3, 'DGS5': 5, 'DGS7': 7, 'DGS10': 10, 'DGS20': 20, 'DGS30': 30}\n",
    "# Original Model: model = aa.NelsonSiegelModel(maturity_dict, '2023-10-26', type='q')\n",
    "model = aa.NelsonSiegelModel(maturity_dict, '2024-1-10', type='q')\n",
    "original_rates = model.fetch_bond_data()\n",
    "original_rates = model.fetch_bond_data()\n",
    "display(original_rates)\n",
    "params = model.NS_df.iloc[0]\n",
    "zero_rates = model.Z['Rate'] / 100 \n",
    "extended_maturities = model.Z['Maturity']\n",
    "\n",
    "# Custom curve printout\n",
    "print(\"\\nNelson-Siegel Curve Parameters:\")\n",
    "print(\"-\" * 30)\n",
    "print(f\"β₀ (Long-term rate): {params.beta0:.2f}%\")\n",
    "print(f\"β₁ (Yield curve slope): {params.beta1:.2f}%\")\n",
    "print(f\"β₂ (Yield curve curvature): {params.beta2:.2f}%\")\n",
    "print(f\"λ: {params['lambda']:.2f}\")\n",
    "print(\"-\" * 30)\n",
    "\n",
    "\n",
    "# ----------------------------- (b) Interpretation of β₀ -----------------------------\n",
    "print(\"\\n(b) Interpretation of β₀\")\n",
    "print(\"-\" * 80)\n",
    "# Parameter Interpretations\n",
    "interpretations = {\n",
    "    \"β₀\": \"Expected long-term interest rate\",\n",
    "    \"β₁\": \"Slope indicates curve's steepness. Positive value: upward-sloping. Negative value: downward-sloping.\",\n",
    "    \"β₂\": \"Curvature indicates the hump's position. Positive: hump at short-medium maturities. Negative: hump at longer maturities.\",\n",
    "    \"λ\": \"Decay factor\"\n",
    "}\n",
    "\n",
    "# Display Interpretations\n",
    "print(\"\\nParameter Interpretations:\")\n",
    "for param, interp in interpretations.items():\n",
    "    print(f\"{param}: {interp}\")\n",
    "print(\"-\" * 30)  # End separator\n",
    "\n",
    "# ----------------------------- (c) Zero Rates -----------------------------\n",
    "print(\"\\n(c) Zero Rates\")\n",
    "print(\"-\" * 80)\n",
    "\n",
    "desired_maturities = {0.25, 1, 2, 3, 4}.union({x for x in range(5, 31, 5)})\n",
    "filtered_data = [[maturity, rate*100] for maturity, rate in zip(extended_maturities, zero_rates) if maturity in desired_maturities]\n",
    "df_zero_rates = pd.DataFrame(filtered_data, columns=[\"Maturity\", \"Zero Rate (%)\"])\n",
    "display(df_zero_rates.style.format(\"{:.2f}\").hide().set_caption(\"Nelson Curve Zero Rates \\n(displaying specific mats)\"))\n",
    "\n",
    "def gradient_line(ax, x, y, cmap=\"RdYlBu_r\", norm=None, linewidth=3, alpha=1.0):\n",
    "    if norm is None:\n",
    "        norm = plt.Normalize(y.min(), y.max())\n",
    "    z = np.array([y[:-1], y[1:]]).mean(axis=0)\n",
    "    points = np.array([x, y]).T.reshape(-1, 1, 2)\n",
    "    segments = np.concatenate([points[:-1], points[1:]], axis=1)\n",
    "    lc = LineCollection(segments, cmap=cmap, norm=norm, linewidth=linewidth, alpha=alpha)\n",
    "    lc.set_array(z)\n",
    "    ax.add_collection(lc)\n",
    "    return lc\n",
    "\n",
    "fig, ax = plt.subplots(figsize=(8.5, 10*0.618), facecolor='#2c2c2c')\n",
    "\n",
    "# Background and cartoonish feel\n",
    "for spine in ax.spines.values():\n",
    "    spine.set_color(\"#66c2a5\")\n",
    "ax.set_facecolor(\"#2c2c2c\")\n",
    "\n",
    "# Glow effect\n",
    "alphas = np.linspace(0.05, .5, 10)\n",
    "sizes = np.linspace(4, 1, 10)\n",
    "for alpha, size in zip(alphas, sizes):\n",
    "    gradient_line(ax, extended_maturities, zero_rates*100, cmap=LinearSegmentedColormap.from_list('custom', ['blue', 'purple', 'red']), linewidth=size, alpha=alpha)\n",
    "ax = sns.lineplot(x=extended_maturities, y=zero_rates*100, color='black', linewidth=1.3, alpha=.5)\n",
    "ax = sns.lineplot(x=extended_maturities, y=zero_rates*100, color='black', linewidth=.7, alpha=.8)\n",
    "\n",
    "# Titles, labels and grid\n",
    "ax.set_title('Nelson-Siegel Zero Rates', fontsize=18, pad=20)\n",
    "ax.set_xlabel('Maturity (years)', fontsize=14, labelpad=10)\n",
    "ax.set_ylabel('Zero Rate (%)', fontsize=14, labelpad=10)\n",
    "ax.tick_params(axis='both', which='major', labelsize=12)\n",
    "ax.grid(True, which='both', linestyle='--', linewidth=0.5, color='#a7a59b')\n",
    "ax.set_xlim(0, 30)\n",
    "ax.set_ylim(min(zero_rates*100) - 0.05, max(zero_rates*100) + 0.05)\n",
    "\n",
    "# Display\n",
    "plt.tight_layout()\n",
    "plt.show()\n",
    "\n",
    "# ----------------------------- (d) Curve Slope Check -----------------------------\n",
    "print(\"\\n(d) Curve Slope Check\")\n",
    "print(\"-\" * 80)\n",
    "differences = np.diff(zero_rates)\n",
    "if all(diff <= 0 for diff in differences):\n",
    "    print(\"\\nThe zero curve is inverted everywhere.\")\n",
    "elif any(diff > 0 for diff in differences):\n",
    "    print(\"\\nThe zero curve slopes upward at some points.\")\n",
    "\n",
    "print(f'It is inverted around {len([diff for diff in differences if diff <= 0])/4} and starts increasing at maturity {(np.where(differences > 0)[0][0] + 1)/4}')\n"
   ]
  },
  {
   "cell_type": "markdown",
   "metadata": {},
   "source": [
    "##### Accurate NPV Calculations for a Project using the Zero Rate Curve"
   ]
  },
  {
   "cell_type": "code",
   "execution_count": 11,
   "metadata": {},
   "outputs": [
    {
     "name": "stdout",
     "output_type": "stream",
     "text": [
      "\n",
      "(e) AMC Bond Pricing\n",
      "--------------------------------------------------------------------------------\n",
      "   Year Zero Rate (%) Effective Rate (%) Cash Flow ($) Present Value ($)\n",
      "0     1         4.83%             15.23%         $6.12             $5.32\n",
      "1     2         4.35%             14.75%         $6.12             $4.65\n",
      "2     3         4.12%             14.52%         $6.12             $4.08\n",
      "3     4         4.02%             14.42%         $6.12             $3.57\n",
      "4     5         3.98%             14.38%       $106.12            $54.20\n",
      "\n",
      "The bond's price for AMC Entertainment is: $71.82\n",
      "Proof: $5.32 + $4.65 + $4.08 + $3.57 + $54.20= $71.82\n",
      "\n",
      "(f) NPV Calculation\n",
      "--------------------------------------------------------------------------------\n",
      "   Year Zero Rate (%) Cash Flow ($) Present Value ($)\n",
      "0  0.00         5.47%      $-100.00          $-100.00\n",
      "1  0.75         5.01%        $25.00            $24.10\n",
      "2  2.00         4.35%        $75.00            $68.87\n",
      "3  3.25         4.08%       $100.00            $87.80\n",
      "4  4.25         4.00%        $60.00            $50.78\n",
      "5  6.50         3.99%       $-20.00           $-15.51\n",
      "\n",
      "Net Present Value (NPV) of the business investment is: $116.05\n",
      "--------------------------------------------------------------------------------\n",
      "Proof: $-100.00 + $24.10 + $68.87 + $87.80 + $50.78 + $-15.51= $116.05\n"
     ]
    }
   ],
   "source": [
    "\n",
    "# ----------------------------- (e) AMC Bond Pricing -----------------------------\n",
    "print(\"\\n(e) AMC Bond Pricing\")\n",
    "print(\"-\" * 80)\n",
    "risk_premium = 10.4 / 100\n",
    "coupon_rate = 6.125 / 100\n",
    "face_value = 100\n",
    "years = 5\n",
    "\n",
    "bond_data = []\n",
    "for t in range(1, years + 1):  # Assuming years is defined from previous sections\n",
    "    zero_rate = zero_rates[(t*4)-1]\n",
    "    effective_rate = zero_rate + risk_premium\n",
    "    cash_flow = coupon_rate * face_value if t != years else coupon_rate * face_value + face_value\n",
    "    present_value = cash_flow / (1 + effective_rate)**t\n",
    "    bond_data.append([t, f\"{zero_rate * 100:.2f}%\", f\"{effective_rate * 100:.2f}%\", f\"${cash_flow:.2f}\", f\"${present_value:.2f}\"])\n",
    "\n",
    "# Display Bond Data\n",
    "columns = ['Year', 'Zero Rate (%)', 'Effective Rate (%)', 'Cash Flow ($)', 'Present Value ($)']\n",
    "bond_df = pd.DataFrame(bond_data, columns=columns)\n",
    "print(bond_df)\n",
    "\n",
    "total_price = bond_df['Present Value ($)'].str.replace(\"$\", \"\").astype(float).sum()\n",
    "print(f\"\\nThe bond's price for AMC Entertainment is: ${total_price:.2f}\")\n",
    "\n",
    "# Proof String for bond_df\n",
    "proof_string = \"Proof: \"\n",
    "for i in range(years):\n",
    "    proof_string += bond_df['Present Value ($)'][i]\n",
    "    if i != years - 1:\n",
    "        proof_string += \" + \"\n",
    "proof_string += f\"= ${total_price:.2f}\"\n",
    "print(proof_string)\n",
    "\n",
    "# ----------------------------- (f) NPV Calculation -----------------------------\n",
    "print(\"\\n(f) NPV Calculation\")\n",
    "print(\"-\" * 80)\n",
    "\n",
    "cash_flows = [-100, 25, 75, 100, 60, -20]\n",
    "years = [0, 0.75, 2, 3.25, 4.25, 6.5]\n",
    "\n",
    "# Ensure the 'Maturity' column in model.Z is rounded to 2 decimal places\n",
    "model.Z['Maturity'] = model.Z['Maturity'].round(2)\n",
    "\n",
    "# Lookup the rates for the given years\n",
    "zero_rates_for_given_maturities = []\n",
    "for year in years:\n",
    "    # Find the closest maturity in the DataFrame\n",
    "    closest_maturity = model.Z.iloc[(model.Z['Maturity'] - year).abs().argsort()[:1]]\n",
    "    rate = closest_maturity['Rate'].values[0] / 100  # Convert rate to decimal\n",
    "    zero_rates_for_given_maturities.append(rate)\n",
    "\n",
    "# Convert the list to a numpy array\n",
    "zero_rates_for_given_maturities = np.array(zero_rates_for_given_maturities)\n",
    "\n",
    "# Calculate discounted cash flows for each period\n",
    "discounted_cash_flows = [cf / (1 + rate)**t for cf, rate, t in zip(cash_flows, zero_rates_for_given_maturities, years)]\n",
    "\n",
    "# Construct DataFrame for the results\n",
    "data = {\n",
    "    \"Year\": years,\n",
    "    \"Zero Rate (%)\": [f\"{rate*100:.2f}%\" for rate in zero_rates_for_given_maturities],\n",
    "    \"Cash Flow ($)\": [f\"${cf:.2f}\" for cf in cash_flows],\n",
    "    \"Present Value ($)\": [f\"${dcf:.2f}\" for dcf in discounted_cash_flows]\n",
    "}\n",
    "\n",
    "df_npv = pd.DataFrame(data)\n",
    "\n",
    "# Display the DataFrame\n",
    "print(df_npv)\n",
    "\n",
    "npv = sum(discounted_cash_flows)\n",
    "print(f\"\\nNet Present Value (NPV) of the business investment is: ${npv:.2f}\")\n",
    "print(\"-\" * 80)\n",
    "\n",
    "# Proof String for df_npv\n",
    "proof_string = \"Proof: \"\n",
    "num_years = len(years)\n",
    "for i in range(num_years):\n",
    "    proof_string += df_npv['Present Value ($)'][i]\n",
    "    if i != num_years - 1:\n",
    "        proof_string += \" + \"\n",
    "proof_string += f\"= ${npv:.2f}\"\n",
    "print(proof_string)\n",
    "\n"
   ]
  },
  {
   "cell_type": "markdown",
   "metadata": {},
   "source": [
    "##### Forward Rate, Investment Decisions, and Near-Term Forward Spread Calculations"
   ]
  },
  {
   "cell_type": "code",
   "execution_count": 13,
   "metadata": {},
   "outputs": [
    {
     "data": {
      "text/markdown": [
       "## Forward Rates"
      ],
      "text/plain": [
       "<IPython.core.display.Markdown object>"
      ]
     },
     "metadata": {},
     "output_type": "display_data"
    },
    {
     "data": {
      "text/markdown": [
       "Compute the forward rates $f_{1\\rightarrow2}$ and $f_{2\\rightarrow3}$ (also referred to as $_1f_2$ and $_2f_3$)."
      ],
      "text/plain": [
       "<IPython.core.display.Markdown object>"
      ]
     },
     "metadata": {},
     "output_type": "display_data"
    },
    {
     "data": {
      "text/markdown": [
       "### Solution"
      ],
      "text/plain": [
       "<IPython.core.display.Markdown object>"
      ]
     },
     "metadata": {},
     "output_type": "display_data"
    },
    {
     "data": {
      "text/markdown": [
       "The Formula Used is: $f_{start_{year}\\rightarrow end_{year}} = \\frac{(1 + z_{end_{year}})^{end_{year}}}{(1 + z_{start_{year}})^{start_{year}}} - 1$"
      ],
      "text/plain": [
       "<IPython.core.display.Markdown object>"
      ]
     },
     "metadata": {},
     "output_type": "display_data"
    },
    {
     "data": {
      "text/markdown": [
       "- $f_{1\\rightarrow2}$ = 3.88%"
      ],
      "text/plain": [
       "<IPython.core.display.Markdown object>"
      ]
     },
     "metadata": {},
     "output_type": "display_data"
    },
    {
     "data": {
      "text/markdown": [
       "- $f_{2\\rightarrow3}$ = 3.65%"
      ],
      "text/plain": [
       "<IPython.core.display.Markdown object>"
      ]
     },
     "metadata": {},
     "output_type": "display_data"
    },
    {
     "data": {
      "text/markdown": [
       "---"
      ],
      "text/plain": [
       "<IPython.core.display.Markdown object>"
      ]
     },
     "metadata": {},
     "output_type": "display_data"
    },
    {
     "data": {
      "text/markdown": [
       "## Market Expectation"
      ],
      "text/plain": [
       "<IPython.core.display.Markdown object>"
      ]
     },
     "metadata": {},
     "output_type": "display_data"
    },
    {
     "data": {
      "text/markdown": [
       "(b) Given the forward rates, The market expects the 1-year interest rate to **_decrease_** in the next year and to **_decrease_** in the following year."
      ],
      "text/plain": [
       "<IPython.core.display.Markdown object>"
      ]
     },
     "metadata": {},
     "output_type": "display_data"
    },
    {
     "data": {
      "text/markdown": [
       "---"
      ],
      "text/plain": [
       "<IPython.core.display.Markdown object>"
      ]
     },
     "metadata": {},
     "output_type": "display_data"
    },
    {
     "data": {
      "text/markdown": [
       "\n",
       "## Investment Decision for 2-Year Horizon\n",
       "- Current 1-year spot rate: **4.83%**\n",
       "- Current 2-year spot rate: **4.35%**\n",
       "- Expected $f_{1\\rightarrow2}$: **4.13%**\n",
       "\n",
       "- Formula for investing in a 2-year bond:\n",
       "  - Total Return = (($1 + z_2)^2) - 1$\n",
       "  - Where $z_2$ is the current 2-year spot rate.\n",
       "  - Total Return: **8.90%**\n",
       "  \n",
       "- Formula for rolling over one-year bonds:\n",
       "  - Total Return for $\\text{First Year} = 1 + z_1$\n",
       "  - Total Return for Second Year = $(1 + z_1) \\times (1 + E[z_1]) - 1$\n",
       "  - Where $z_1$ is the current 1-year spot rate and $E[z_1]$ is the expected 1-year spot rate for the second year.\n",
       "  - Total Return: **9.16%**\n",
       "\n",
       "Based on the total returns, **rolling over bonds** is better.\n"
      ],
      "text/plain": [
       "<IPython.core.display.Markdown object>"
      ]
     },
     "metadata": {},
     "output_type": "display_data"
    },
    {
     "data": {
      "text/markdown": [
       "Compute the value of the NTFS - To compute $f_{1.50\\rightarrow1.75}$ the no arbitrage condition is based on investing for 7 quarters such that $$(1 + z_{1.75})^{1.75} = (1 + z_{1.50})^{1.50} \\times (1 + f_{1.50\\rightarrow1.75})^{0.25}$$."
      ],
      "text/plain": [
       "<IPython.core.display.Markdown object>"
      ]
     },
     "metadata": {},
     "output_type": "display_data"
    },
    {
     "data": {
      "text/markdown": [
       "\n",
       "## Near-Term Forward Spread (NTFS) Calculation\n",
       "\n",
       "- **Input Rates**:\n",
       "  - Spot rate for 1.5 years $z_{1.5}$: **4.55%**\n",
       "  - Spot rate for 1.75 years $z_{1.75}$: **4.44%**\n",
       "  - 3-month T-bill rate $z_{0.25}$: **5.46%**\n",
       "\n",
       "- **Forward Rate Calculation**:\n",
       "  - Formula: $f_{1.5\\rightarrow1.75} = \\left(\\frac{(1 + z_{1.75})^{1.75}}{(1 + z_{1.5})^{1.5}}\\right)^{\\frac1{end - start}} - 1$\n",
       "  - Calculated Forward Rate: **3.7976%**\n",
       "\n",
       "- **NTFS Calculation**:\n",
       "  - Formula: $NTFS = f_{1.5\\rightarrow1.75} - z_{0.25}$\n",
       "  - NTFS Value: **-1.662368%**\n",
       "\n"
      ],
      "text/plain": [
       "<IPython.core.display.Markdown object>"
      ]
     },
     "metadata": {},
     "output_type": "display_data"
    },
    {
     "data": {
      "text/markdown": [
       "---"
      ],
      "text/plain": [
       "<IPython.core.display.Markdown object>"
      ]
     },
     "metadata": {},
     "output_type": "display_data"
    }
   ],
   "source": [
    "model = aa.NelsonSiegelModel(maturity_dict, '2024-1-10', type='d')\n",
    "\n",
    "# Assuming 'model' is an instance of NelsonSiegelModel\n",
    "yield_analysis = aa.TreasuryYieldAnalysis(model)\n",
    "\n",
    "# Compute forward rates\n",
    "f1_2 = yield_analysis.compute_forward_rate(1, 2)\n",
    "f2_3 = yield_analysis.compute_forward_rate(2, 3)\n",
    "\n",
    "# Display forward rates in Markdown format\n",
    "markdown_f1_2 = yield_analysis.display_forward_rates_markdown(1, 2)\n",
    "markdown_f2_3 = yield_analysis.display_forward_rates_markdown(2, 3)\n",
    "\n",
    "# Determine market expectation based on forward rates\n",
    "market_expectation_markdown = yield_analysis.market_expectation(f1_2, f2_3)\n",
    "\n",
    "\n",
    "display(Markdown(\"## Forward Rates\"))\n",
    "### Improve the below to be programmatically generated from whatever inputs get used in compute_forward_rate()\n",
    "display(Markdown(\"Compute the forward rates $f_{1\\\\rightarrow2}$ and $f_{2\\\\rightarrow3}$ (also referred to as $_1f_2$ and $_2f_3$).\"))\n",
    "display(Markdown(\"### Solution\"))\n",
    "display(Markdown('The Formula Used is: $f_{start_{year}\\\\rightarrow end_{year}} = \\\\frac{(1 + z_{end_{year}})^{end_{year}}}{(1 + z_{start_{year}})^{start_{year}}} - 1$'))\n",
    "display(Markdown(f'- {markdown_f1_2}'))\n",
    "display(Markdown(f'- {markdown_f2_3}'))\n",
    "\n",
    "display(Markdown(\"---\"))\n",
    "display(Markdown(\"## Market Expectation\"))\n",
    "display(Markdown(market_expectation_markdown))\\\n",
    "\n",
    "# Define the expected rate for the first year\n",
    "expected_rate_first_year = 0.0413  # 4.13% as a decimal\n",
    "\n",
    "# Define the investment horizon (e.g., 2 years)\n",
    "investment_horizon = 2\n",
    "\n",
    "# Compute and display investment decision in Markdown format\n",
    "investment_decision_md = yield_analysis.investment_decision_markdown(investment_horizon, expected_rate_first_year)\n",
    "\n",
    "# Display the investment decision\n",
    "display(Markdown(\"---\"))\n",
    "display(Markdown(investment_decision_md))\n",
    "\n",
    "\n",
    "display(Markdown(\"Compute the value of the NTFS - To compute $f_{1.50\\\\rightarrow1.75}$ the no arbitrage condition is based on investing for 7 quarters such that $$(1 + z_{1.75})^{1.75} = (1 + z_{1.50})^{1.50} \\\\times (1 + f_{1.50\\\\rightarrow1.75})^{0.25}$$.\"))\n",
    "ntfs_markdown = yield_analysis.compute_NTFS_markdown(1.5, 1.75, 0.25)  # Using 1.5 years, 1.75 years, and 3-month T-bill\n",
    "display(Markdown(ntfs_markdown))\n",
    "display(Markdown(\"---\"))\n"
   ]
  },
  {
   "cell_type": "markdown",
   "metadata": {},
   "source": [
    "##### Section 4: Repo Analysis and Strategies"
   ]
  },
  {
   "cell_type": "code",
   "execution_count": 14,
   "metadata": {},
   "outputs": [
    {
     "data": {
      "text/markdown": [
       "### (a) Transaction Type\n",
       "- **Repo**"
      ],
      "text/plain": [
       "<IPython.core.display.Markdown object>"
      ]
     },
     "metadata": {},
     "output_type": "display_data"
    },
    {
     "data": {
      "text/markdown": [
       "\n",
       "## Repo Profit/Loss Calculation\n",
       "- Initial Bond Price (Before YTM Change): **$92.9921**\n",
       "- Updated YTM for Bond Buyback: **4.3500%**\n",
       "- Final Bond Price (After YTM Change): **$91.3816**\n",
       "- Haircut Rate: **3.00%**\n",
       "- Lent Amount (after haircut): **$90.2023**\n",
       "- Days Between Transactions: **3 days**\n",
       "- Repo Rate: **7.50%**\n",
       "- Interest for Repo Rate: **$-0.05638**\n",
       "- Total Profit/Loss in Dollars: **$-1.666874**\n",
       "- Total Profit/Loss as % of Lent Capital: **-184.7928%**\n",
       "\n",
       "## Break-even Bond Price\n",
       "- Initial Bond Price: **$92.9921**\n",
       "- Interest for Repo Rate: **$-0.05638**\n",
       "- Break-even Price for Repo: **$92.93569**\n"
      ],
      "text/plain": [
       "<IPython.core.display.Markdown object>"
      ]
     },
     "metadata": {},
     "output_type": "display_data"
    },
    {
     "data": {
      "text/markdown": [
       "### (a) Transaction Type\n",
       "- **Reverse_repo**"
      ],
      "text/plain": [
       "<IPython.core.display.Markdown object>"
      ]
     },
     "metadata": {},
     "output_type": "display_data"
    },
    {
     "data": {
      "text/markdown": [
       "\n",
       "## Reverse_repo Profit/Loss Calculation\n",
       "- Initial Bond Price (Before YTM Change): **$92.9921**\n",
       "- Updated YTM for Bond Buyback: **4.3500%**\n",
       "- Final Bond Price (After YTM Change): **$91.3816**\n",
       "- Haircut Rate: **3.00%**\n",
       "- Lent Amount (after haircut): **$90.2023**\n",
       "- Days Between Transactions: **3 days**\n",
       "- Repo Rate: **7.50%**\n",
       "- Interest for Reverse Repo Rate: **$0.05638**\n",
       "- Total Profit/Loss in Dollars: **$1.666874**\n",
       "- Total Profit/Loss as % of Lent Capital: **184.7928%**\n",
       "\n",
       "## Break-even Bond Price\n",
       "- Initial Bond Price: **$92.9921**\n",
       "- Interest for Reverse Repo Rate: **$0.05638**\n",
       "- Break-even Price for Reverse_repo: **$93.04845**\n"
      ],
      "text/plain": [
       "<IPython.core.display.Markdown object>"
      ]
     },
     "metadata": {},
     "output_type": "display_data"
    }
   ],
   "source": [
    "# Initialize the Bond object\n",
    "bond = bp.Bond('2039-07-31', 0.035, 0.042, settle='2023-11-13', freq=2)\n",
    "\n",
    "# Initialize the RepoTransactionAnalysis object for a repo\n",
    "repo_analysis = aa.RepoTransactionAnalysis(bond, 0.075, 0.03, 'repo')\n",
    "\n",
    "# Initialize the RepoTransactionAnalysis object for a reverse repo\n",
    "reverse_repo_analysis = aa.RepoTransactionAnalysis(bond, 0.075, 0.03, 'reverse_repo')\n",
    "\n",
    "# Display transaction type and profit/loss calculations\n",
    "repo_analysis.display_transaction_type()\n",
    "repo_analysis.display_profit_loss(0.0435, pd.Timestamp('2023-11-16'))\n",
    "\n",
    "reverse_repo_analysis.display_transaction_type()\n",
    "reverse_repo_analysis.display_profit_loss(0.0435, pd.Timestamp('2023-11-16'))\n"
   ]
  },
  {
   "cell_type": "markdown",
   "metadata": {},
   "source": [
    "##### Section 5: Expected Default Frequency, Z-Spread, and Credit Risk\n",
    "\n"
   ]
  },
  {
   "cell_type": "code",
   "execution_count": 16,
   "metadata": {},
   "outputs": [
    {
     "data": {
      "text/markdown": [
       "| Company | Settlement  | Maturity    | Coupon Rate | YTM   | Dirty Price | Z-Spread (bps) |\n",
       "|---------|-------------|-------------|-------------|-------|-------------|----------------|\n",
       "| HD | 2023-12-18 | 2036-12-16 | 5.875% | 4.97% | 108.6466 | 0.7057 |\n"
      ],
      "text/plain": [
       "<IPython.core.display.Markdown object>"
      ]
     },
     "metadata": {},
     "output_type": "display_data"
    },
    {
     "name": "stdout",
     "output_type": "stream",
     "text": [
      "                                Bond Details\n",
      "--------------------------------------------------------------------------------------------\n",
      "\n",
      "Name: Bond                      Coupon Rate: 5.875%             Period: 180 days                \n",
      "Face Value: $100.00             Yield Rate: 4.967000%           Days since coupon: 2            \n",
      "Maturity: 2036-12-16            Current Yield: 5.4074%          N: 26                           \n",
      "Settled : 2023-12-18            Coupon Frequency: 2             PMT: $2.9375                    \n",
      "Prev Pmt: 2023-12-16            Mac Duration: 9.433894          Convexity: 112.8043             \n",
      "Next Pmt: 2024-06-17            Mod Duration: 9.205280          DV01 Per MM: $1000.122752       \n",
      "\n",
      "                                DirtyPrice: $108.6466363\n",
      "                                AccruedInt: $0.0326389\n",
      "                                CleanPrice: $108.6139974\n",
      "--------------------------------------------------------------------------------------------\n"
     ]
    },
    {
     "data": {
      "image/png": "[encoded data removed]",
      "text/plain": [
       "<Figure size 830x618 with 1 Axes>"
      ]
     },
     "metadata": {},
     "output_type": "display_data"
    },
    {
     "data": {
      "text/markdown": [
       "| Company | Settlement  | Maturity    | Coupon Rate | YTM   | Dirty Price | Z-Spread (bps) |\n",
       "|---------|-------------|-------------|-------------|-------|-------------|----------------|\n",
       "| 3M | 2023-11-21 | 2046-09-19 | 3.125% | 5.68% | 68.0735 | 1.0143 |\n",
       "| ABBVIE | 2023-11-21 | 2036-05-14 | 4.300% | 5.35% | 90.6092 | 0.8427 |\n",
       "| AMD | 2023-11-21 | 2032-06-01 | 3.924% | 5.10% | 93.7987 | 0.3349 |\n",
       "| CVS | 2023-11-21 | 2039-09-15 | 6.125% | 6.12% | 101.1576 | 1.4761 |\n",
       "| Comcast | 2023-11-21 | 2040-01-03 | 6.400% | 6.09% | 105.5906 | 1.3273 |\n",
       "| Lockheed | 2023-11-21 | 2041-09-15 | 4.850% | 5.96% | 88.7879 | 1.3103 |\n",
       "| NetFlix | 2023-11-21 | 2029-11-15 | 5.375% | 5.51% | 99.3859 | 1.0530 |\n"
      ],
      "text/plain": [
       "<IPython.core.display.Markdown object>"
      ]
     },
     "metadata": {},
     "output_type": "display_data"
    }
   ],
   "source": [
    "# ----------------------------- (a) Z-Spread -----------------------------\n",
    "analytics = aa.BondAnalytics(maturity_dict, '2023-12-05')\n",
    "\n",
    "# Define bond instances\n",
    "bond_instances = {\n",
    "    \"HD\": bp.Bond(maturity=\"2036-12-16\", cr=0.05875, ytm=0.04967, settle=\"2023-12-16\", freq=2) \n",
    "}\n",
    "\n",
    "# First, create the header and the rows\n",
    "markdown_table = \"| Company | Settlement  | Maturity    | Coupon Rate | YTM   | Dirty Price | Z-Spread (bps) |\\n\"\n",
    "markdown_table += \"|---------|-------------|-------------|-------------|-------|-------------|----------------|\\n\"\n",
    "\n",
    "# Loop over bond instances to compute dirty price and Z-spread and add to the table\n",
    "for company, bond in bond_instances.items():\n",
    "    dirty_price = bond.dirty_price()\n",
    "    z_spread_bps = analytics.calculate_z_spread(bond)\n",
    "    markdown_table += f\"| {company} | {bond.settle.strftime('%Y-%m-%d')} | {bond.maturity.strftime('%Y-%m-%d')} | {bond.cr:.3%} | {bond.ytm:.2%} | {dirty_price:.4f} | {z_spread_bps:.4f} |\\n\"\n",
    "\n",
    "# Finally, display the Markdown table\n",
    "display(Markdown(markdown_table))\n",
    "#test HD\n",
    "bond_instances['HD'].display_parameters()\n",
    "\n",
    "\n",
    "model = aa.BlackScholesModel('EDF_data.csv')\n",
    "model.plot_EDF()\n",
    "\n",
    "maturity_dict = {'DGS3MO': 0.25, 'DGS6MO': 0.50, 'DGS1': 1, 'DGS2': 2, 'DGS3': 3, 'DGS5': 5, 'DGS7': 7, 'DGS10': 10, 'DGS20': 20, 'DGS30': 30}\n",
    "analytics = aa.BondAnalytics(maturity_dict, '2023-11-21')\n",
    "\n",
    "# Define bond instances\n",
    "bond_instances = {\n",
    "    \"3M\": bp.Bond(maturity='2046-09-19', cr=3.125/100, ytm=5.68/100, settle='2023-11-21', freq=2),\n",
    "    \"ABBVIE\": bp.Bond(maturity='2036-05-14', cr=4.300/100, ytm=5.35/100, settle='2023-11-21', freq=2),\n",
    "    \"AMD\": bp.Bond(maturity='2032-06-01', cr=3.924/100, ytm=5.10/100, settle='2023-11-21', freq=2),\n",
    "    \"CVS\": bp.Bond(maturity='2039-09-15', cr=6.125/100, ytm=6.12/100, settle='2023-11-21', freq=2),\n",
    "    \"Comcast\": bp.Bond(maturity='2040-01-03', cr=6.400/100, ytm=6.09/100, settle='2023-11-21', freq=2),\n",
    "    \"Lockheed\": bp.Bond(maturity='2041-09-15', cr=4.850/100, ytm=5.96/100, settle='2023-11-21', freq=2),\n",
    "    \"NetFlix\": bp.Bond(maturity='2029-11-15', cr=5.375/100, ytm=5.514092/100, settle='2023-11-21', freq=2),\n",
    "}\n",
    "\n",
    "# First, create the header and the rows\n",
    "markdown_table = \"| Company | Settlement  | Maturity    | Coupon Rate | YTM   | Dirty Price | Z-Spread (bps) |\\n\"\n",
    "markdown_table += \"|---------|-------------|-------------|-------------|-------|-------------|----------------|\\n\"\n",
    "\n",
    "# Loop over bond instances to compute dirty price and Z-spread and add to the table\n",
    "for company, bond in bond_instances.items():\n",
    "    dirty_price = bond.dirty_price()\n",
    "    z_spread_bps = analytics.calculate_z_spread(bond)\n",
    "    markdown_table += f\"| {company} | {bond.settle.strftime('%Y-%m-%d')} | {bond.maturity.strftime('%Y-%m-%d')} | {bond.cr:.3%} | {bond.ytm:.2%} | {dirty_price:.4f} | {z_spread_bps:.4f} |\\n\"\n",
    "\n",
    "# Finally, display the Markdown table\n",
    "display(Markdown(markdown_table))\n"
   ]
  },
  {
   "cell_type": "markdown",
   "metadata": {},
   "source": [
    "Ford and GM Analysis"
   ]
  },
  {
   "cell_type": "code",
   "execution_count": 18,
   "metadata": {},
   "outputs": [
    {
     "data": {
      "image/png": "[encoded data removed]",
      "text/plain": [
       "<Figure size 830x618 with 1 Axes>"
      ]
     },
     "metadata": {},
     "output_type": "display_data"
    },
    {
     "data": {
      "text/markdown": [
       "### Results for F"
      ],
      "text/plain": [
       "<IPython.core.display.Markdown object>"
      ]
     },
     "metadata": {},
     "output_type": "display_data"
    },
    {
     "data": {
      "text/markdown": [
       "**Highest Distance to Default:** 2.28 on 2021-12-31"
      ],
      "text/plain": [
       "<IPython.core.display.Markdown object>"
      ]
     },
     "metadata": {},
     "output_type": "display_data"
    },
    {
     "data": {
      "text/markdown": [
       "**Lowest Distance to Default:** 0.68 on 2020-03-31"
      ],
      "text/plain": [
       "<IPython.core.display.Markdown object>"
      ]
     },
     "metadata": {},
     "output_type": "display_data"
    },
    {
     "data": {
      "text/markdown": [
       "### Results for GM"
      ],
      "text/plain": [
       "<IPython.core.display.Markdown object>"
      ]
     },
     "metadata": {},
     "output_type": "display_data"
    },
    {
     "data": {
      "text/markdown": [
       "**Highest Distance to Default:** 2.84 on 2021-05-28"
      ],
      "text/plain": [
       "<IPython.core.display.Markdown object>"
      ]
     },
     "metadata": {},
     "output_type": "display_data"
    },
    {
     "data": {
      "text/markdown": [
       "**Lowest Distance to Default:** 1.54 on 2020-03-31"
      ],
      "text/plain": [
       "<IPython.core.display.Markdown object>"
      ]
     },
     "metadata": {},
     "output_type": "display_data"
    }
   ],
   "source": [
    "model = aa.BlackScholesModel('FinalEx_data.csv')\n",
    "model.plot_EDF()\n",
    "EDF_Example = model.iterate_calculations(model.df)\n",
    "\n",
    "for ticker in EDF_Example['ticker'].unique():\n",
    "    filtered_df = EDF_Example[EDF_Example['ticker'] == ticker]\n",
    "    \n",
    "    max_dd = filtered_df['DtD'].max()\n",
    "    min_dd = filtered_df['DtD'].min()\n",
    "    max_dd_date = filtered_df[filtered_df['DtD'] == max_dd]['date'].iloc[0]\n",
    "    min_dd_date = filtered_df[filtered_df['DtD'] == min_dd]['date'].iloc[0]\n",
    "\n",
    "    display(Markdown(f\"### Results for {ticker}\"))\n",
    "    display(Markdown(f\"**Highest Distance to Default:** {max_dd:.2f} on {max_dd_date.strftime('%Y-%m-%d')}\"))\n",
    "    display(Markdown(f\"**Lowest Distance to Default:** {min_dd:.2f} on {min_dd_date.strftime('%Y-%m-%d')}\"))"
   ]
  },
  {
   "cell_type": "markdown",
   "metadata": {},
   "source": [
    "##### Bonus Section on comparison between SPY and HYG"
   ]
  },
  {
   "cell_type": "code",
   "execution_count": null,
   "metadata": {},
   "outputs": [],
   "source": [
    "# set to pastelle\n",
    "sns.set_palette(\"pastel\")\n",
    "\n",
    "# Download monthly prices of SPY and HYG starting from the financial crisis (January 2008)\n",
    "spy_data = yf.download('SPY', start='2008-01-01', interval='1mo', progress=False)\n",
    "hyg_data = yf.download('HYG', start='2008-01-01', interval='1mo', progress=False)\n",
    "\n",
    "# Calculate the monthly returns\n",
    "spy_returns = spy_data['Adj Close'].pct_change().dropna()\n",
    "hyg_returns = hyg_data['Adj Close'].pct_change().dropna()\n",
    "\n",
    "# Combine the returns into a single DataFrame\n",
    "combined_returns = pd.DataFrame({\n",
    "    'SPY': spy_returns,\n",
    "    'HYG': hyg_returns\n",
    "}).dropna()\n",
    "\n",
    "# Function for styling individual plots\n",
    "def style_plot(ax, title, ylabel='', xlabel='Date'):\n",
    "    ax.set_title(title, color=\"#f4c542\", fontsize=12, fontweight='bold')\n",
    "    ax.set_ylabel(ylabel, color=\"#fc8d62\", fontsize=10, fontweight='bold')\n",
    "    ax.set_xlabel(xlabel, color=\"#fc8d62\", fontsize=10, fontweight='bold')\n",
    "    ax.tick_params(axis='both', which='major', labelsize=8, colors='#66c2a5')\n",
    "\n",
    "    for spine in ax.spines.values():\n",
    "        spine.set_color(\"#66c2a5\")\n",
    "    ax.set_facecolor(\"#2c2c2c\")\n",
    "    ax.grid(True, which='both', color=\"#4d4d4d\", linestyle=\"--\", linewidth=0.5)\n",
    "    handles, labels = ax.get_legend_handles_labels()\n",
    "    if handles:\n",
    "        ax.legend(handles=handles, labels=labels, loc='upper right', fontsize=8, facecolor=\"#2c2c2c\", edgecolor=\"#2c2c2c\")\n",
    "\n",
    "# Create and display plots\n",
    "plot_titles = ['Monthly Returns of SPY vs HYG', 'Cumulative Returns of SPY vs HYG', 'Rolling 12-Month Correlation of SPY vs HYG', 'Correlation Heatmap of SPY vs HYG']\n",
    "\n",
    "for i, title in enumerate(plot_titles):\n",
    "    plt.figure(figsize=(9.5, 6), facecolor='#2c2c2c')  # Reduced height\n",
    "    ax = plt.gca()\n",
    "    style_plot(ax, title)\n",
    "    \n",
    "    if i == 0:\n",
    "        combined_returns.plot(ax=ax)\n",
    "        ax.legend(['SPY', 'HYG'])\n",
    "    elif i == 1:\n",
    "        cumulative_returns = (1 + combined_returns).cumprod()\n",
    "        cumulative_returns.plot(ax=ax)\n",
    "        ax.legend(['SPY', 'HYG'])\n",
    "    elif i == 2:\n",
    "        rolling_correlation = combined_returns['SPY'].rolling(12).corr(combined_returns['HYG'])\n",
    "        rolling_correlation.plot(ax=ax)\n",
    "    elif i == 3:\n",
    "        sns.heatmap(combined_returns.corr(), annot=True, cmap='coolwarm', center=0, ax=ax)\n",
    "    \n",
    "    plt.tight_layout()  # Adjusts subplot parameters for reduced margins\n",
    "    plt.show()"
   ]
  },
  {
   "cell_type": "markdown",
   "metadata": {},
   "source": [
    "##### Section 6, Mortage Backed Securities Pricing"
   ]
  },
  {
   "cell_type": "code",
   "execution_count": 22,
   "metadata": {},
   "outputs": [
    {
     "name": "stdout",
     "output_type": "stream",
     "text": [
      "Monthly prepayment proportion: 0.3830%\n",
      "MBS price: $404.09 million\n",
      "\n",
      "The MBS price using the PSA Model is: $539.06 million\n"
     ]
    }
   ],
   "source": [
    "maturity_dict = {'DGS3MO': 0.25, 'DGS6MO': 0.50, 'DGS1': 1, 'DGS2': 2, 'DGS3': 3, 'DGS5': 5, 'DGS7': 7, 'DGS10': 10, 'DGS20': 20, 'DGS30': 30}\n",
    "model = aa.NelsonSiegelModel(maturity_dict, '2023-12-05', type='m')\n",
    "\n",
    "zero_rates_df = model.calculate_Z()\n",
    "monthly_zero_rates = zero_rates_df['Rate'].values / 100  # Convert to decimal\n",
    "\n",
    "# Given MBS parameters are assumed to be defined\n",
    "principal_value = 350               # in millions, representing $1 billion\n",
    "wam = 360                           # Weighted Average Maturity in months\n",
    "wac = 0.068                         # Weighted Average Coupon\n",
    "fees = 0.0075                       # Fees as a fraction of the coupon\n",
    "actual_rate = (wac - fees) / 12     # Actual monthly rate to investors\n",
    "cpr = 0.045                          # Conditional Prepayment Rate\n",
    "\n",
    "# ----------------------------- (a) Monthly Prepayment Proportion -----------------------------\n",
    "# Convert annual CPR to monthly prepayment rate\n",
    "monthly_prepayment_rate = 1 - (1 - cpr)**(1/12)\n",
    "print(f'Monthly prepayment proportion: {monthly_prepayment_rate:.4%}')\n",
    "# Monthly interest rate\n",
    "monthly_rate = (wac - fees) / 12\n",
    "\n",
    "# Initial coupon payment\n",
    "coupon = principal_value * monthly_rate / (1 - (1 / (1 + monthly_rate))**wam)\n",
    "\n",
    "# Cash flow DataFrame\n",
    "CF = pd.DataFrame({\n",
    "    'Month': np.arange(1, wam + 1),\n",
    "    'p': np.full(wam, monthly_prepayment_rate),\n",
    "    'L': np.nan,\n",
    "    'Coupon': np.nan,\n",
    "    'C.Interest': np.nan,\n",
    "    'C.Principal': np.nan,\n",
    "    'Prepay': np.nan,\n",
    "    'Total.CF': np.nan,\n",
    "    'PV': np.nan\n",
    "})\n",
    "\n",
    "# Calculate cash flows for each month\n",
    "for i in range(wam):\n",
    "    if i == 0:\n",
    "        CF.at[i, 'L'] = principal_value\n",
    "        CF.at[i, 'Coupon'] = coupon\n",
    "    else:\n",
    "        CF.at[i, 'L'] = CF.at[i-1, 'L'] - CF.at[i-1, 'C.Principal'] - CF.at[i-1, 'Prepay']\n",
    "        CF.at[i, 'Coupon'] = CF.at[i-1, 'Coupon'] * (1 - CF.at[i-1, 'p'])\n",
    "\n",
    "    CF.at[i, 'C.Interest'] = CF.at[i, 'L'] * monthly_rate\n",
    "    CF.at[i, 'C.Principal'] = CF.at[i, 'Coupon'] - CF.at[i, 'C.Interest']\n",
    "    CF.at[i, 'Prepay'] = CF.at[i, 'p'] * CF.at[i, 'L']\n",
    "    CF.at[i, 'Total.CF'] = CF.at[i, 'Coupon'] + CF.at[i, 'Prepay']\n",
    "\n",
    "# Discount cash flows to present value using zero rates\n",
    "CF['PV'] = CF.apply(lambda row: row['Total.CF'] / ((1 + monthly_zero_rates[int(row['Month']) - 1] / 2)**(row['Month'] / 6)), axis=1)\n",
    "\n",
    "# ----------------------------- (b) MBS Price -----------------------------\n",
    "# Sum the present values to get the MBS price\n",
    "MBS_price = CF['PV'].sum()\n",
    "print('MBS price: ${:,.2f}'.format(MBS_price) + ' million')\n",
    "\n",
    "\n",
    "# ----------------------------- (c) MBS with PSA -----------------------------\n",
    "# PSA Model Parameters for Solution #2\n",
    "PSA_start_CPR = 0.002\n",
    "PSA_increment = 0.002\n",
    "PSA_max_CPR = 0.06\n",
    "PSA_max_month = 30  # Month when CPR reaches 6%\n",
    "\n",
    "# Given parameters for MBS\n",
    "principal_value_2 = 500                 # in millions, representing $500 million\n",
    "wam_2 = 200                             # weighted average maturity in months for the second MBS\n",
    "wac_2 = 0.06                            # weighted average coupon for the second MBS\n",
    "fees_2 = 0.005                          # fees of the coupon for the second MBS\n",
    "actual_rate_2 = (wac_2 - fees_2) / 12   # actual monthly rate to investors for the second MBS\n",
    "\n",
    "# Initialize cash flow DataFrame for the second MBS\n",
    "months = np.arange(1, wam_2 + 1)\n",
    "CF_2 = pd.DataFrame({'Month': months})\n",
    "\n",
    "# Calculate PSA CPR for each month and convert it to monthly prepayment rate\n",
    "PSA_CPR = PSA_start_CPR + PSA_increment * np.clip(months - 1, 0, PSA_max_month - 1)\n",
    "PSA_CPR = np.minimum(PSA_CPR, PSA_max_CPR)  # Cap the CPR at 6%\n",
    "CF_2['p'] = 1 - (1 - PSA_CPR)**(1/12)\n",
    "\n",
    "# Calculate the first coupon payment for the second MBS\n",
    "L_2 = principal_value_2                       # Principal for the second MBS\n",
    "r_2 = actual_rate_2                           # Monthly interest rate for the second MBS\n",
    "N_2 = wam_2                                   # Total number of periods (months) for the second MBS\n",
    "C_2 = L_2 * r_2 / (1 - (1 / (1 + r_2))**N_2)  # Initial coupon payment for the second MBS\n",
    "\n",
    "# Initial values for the first period\n",
    "CF_2.loc[0, ['L', 'Coupon', 'C.Interest', 'C.Principal', 'Prepay', 'Total.CF']] = \\\n",
    "    [L_2, C_2, L_2 * r_2, C_2 - L_2 * r_2, CF_2.loc[0, 'p'] * L_2, C_2 + CF_2.loc[0, 'p'] * L_2]\n",
    "\n",
    "# Calculate cash flows for all future periods for the second MBS\n",
    "for i in range(1, N_2):\n",
    "    prev_row = CF_2.loc[i - 1]\n",
    "    CF_2.loc[i, 'L'] = prev_row['L'] - prev_row['C.Principal'] - prev_row['Prepay']\n",
    "    CF_2.loc[i, 'Coupon'] = (1 - prev_row['p']) * prev_row['Coupon']\n",
    "    CF_2.loc[i, 'C.Interest'] = CF_2.loc[i, 'L'] * r_2\n",
    "    CF_2.loc[i, 'C.Principal'] = CF_2.loc[i, 'Coupon'] - CF_2.loc[i, 'C.Interest']\n",
    "    CF_2.loc[i, 'Prepay'] = CF_2.loc[i, 'p'] * CF_2.loc[i, 'L']\n",
    "    CF_2.loc[i, 'Total.CF'] = CF_2.loc[i, 'Coupon'] + CF_2.loc[i, 'Prepay']\n",
    "\n",
    "# Adjusting the monthly_zero_rates to match the wam_2 period\n",
    "if len(monthly_zero_rates) > wam_2:\n",
    "    adjusted_monthly_zero_rates = monthly_zero_rates[:wam_2]\n",
    "elif len(monthly_zero_rates) < wam_2:\n",
    "    # Extend the array with the last rate value to match wam_2\n",
    "    last_rate = monthly_zero_rates[-1]\n",
    "    rates_to_add = np.full(wam_2 - len(monthly_zero_rates), last_rate)\n",
    "    adjusted_monthly_zero_rates = np.concatenate((monthly_zero_rates, rates_to_add))\n",
    "else:\n",
    "    adjusted_monthly_zero_rates = monthly_zero_rates\n",
    "\n",
    "# Recompute the discount factors\n",
    "discount_factors = (1 + adjusted_monthly_zero_rates / 2) ** (CF_2['Month'] / 6)\n",
    "CF_2['PV'] = CF_2['Total.CF'] / discount_factors\n",
    "\n",
    "# Sum the present values to get the MBS price for the second MBS\n",
    "MBS_price_2 = CF_2['PV'].sum().round(2)\n",
    "print(f'\\nThe MBS price using the PSA Model is: ${MBS_price_2:,.2f} million')"
   ]
  },
  {
   "cell_type": "code",
   "execution_count": null,
   "metadata": {},
   "outputs": [],
   "source": []
  }
 ],
 "metadata": {
  "kernelspec": {
   "display_name": "FinancialAnalytics",
   "language": "python",
   "name": "python3"
  },
  "language_info": {
   "codemirror_mode": {
    "name": "ipython",
    "version": 3
   },
   "file_extension": ".py",
   "mimetype": "text/x-python",
   "name": "python",
   "nbconvert_exporter": "python",
   "pygments_lexer": "ipython3",
   "version": "3.11.5"
  }
 },
 "nbformat": 4,
 "nbformat_minor": 2
}
